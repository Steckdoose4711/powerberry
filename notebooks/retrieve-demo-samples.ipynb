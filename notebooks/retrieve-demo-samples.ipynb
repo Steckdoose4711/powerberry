{
 "cells": [
  {
   "cell_type": "code",
   "execution_count": null,
   "metadata": {},
   "outputs": [],
   "source": [
    "import os\n",
    "import sys\n",
    "from pathlib import Path\n",
    "\n",
    "import numpy as np\n",
    "import matplotlib.pyplot as plt\n",
    "\n",
    "# path hack to make relative imports work - don't mind me\n",
    "__package__ = \"src\"\n",
    "modulepath = Path.cwd().joinpath(\"../powerberry-app\").resolve().as_posix()\n",
    "\n",
    "if modulepath not in sys.path:\n",
    "    sys.path.append(modulepath)\n",
    "\n",
    "from .app import App\n",
    "from .services.config import Config"
   ]
  },
  {
   "cell_type": "code",
   "execution_count": null,
   "metadata": {},
   "outputs": [],
   "source": [
    "os.environ[\"CONFIG_PATH\"] = Path.cwd().joinpath(\"../config/config.json\").resolve().as_posix()\n",
    "\n",
    "config = Config()\n",
    "app = App(config)\n",
    "app.connect()"
   ]
  },
  {
   "cell_type": "code",
   "execution_count": null,
   "metadata": {},
   "outputs": [],
   "source": [
    "ts, volt = app._read_channel(\"0\", \"0\")\n",
    "\n",
    "prefix = \"xx\"\n",
    "\n",
    "np.save(f\"./samples/{prefix}_ts.npy\", ts)\n",
    "np.save(f\"./samples/{prefix}_volt.npy\", volt)"
   ]
  },
  {
   "cell_type": "code",
   "execution_count": null,
   "metadata": {},
   "outputs": [],
   "source": [
    "ts, volt = np.load(f\"./samples/{prefix}_ts.npy\"), np.load(f\"./samples/{prefix}_volt.npy\")\n",
    "plt.plot(ts, volt)"
   ]
  }
 ],
 "metadata": {
  "interpreter": {
   "hash": "3ecb7e6ede39cfaa24dfb511c24d88f86843d37c940740ac6cb25c474bb0a191"
  },
  "kernelspec": {
   "display_name": "Python 3.9.1 ('.venv': venv)",
   "language": "python",
   "name": "python3"
  },
  "language_info": {
   "codemirror_mode": {
    "name": "ipython",
    "version": 3
   },
   "file_extension": ".py",
   "mimetype": "text/x-python",
   "name": "python",
   "nbconvert_exporter": "python",
   "pygments_lexer": "ipython3",
   "version": "3.9.1"
  },
  "orig_nbformat": 4
 },
 "nbformat": 4,
 "nbformat_minor": 2
}
