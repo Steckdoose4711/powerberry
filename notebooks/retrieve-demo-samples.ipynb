{
 "cells": [
  {
   "cell_type": "code",
   "execution_count": null,
   "metadata": {},
   "outputs": [],
   "source": [
    "import os\n",
    "import sys\n",
    "from pathlib import Path\n",
    "from functools import partial\n",
    "from datetime import datetime\n",
    "\n",
    "import scipy.optimize\n",
    "import numpy as np\n",
    "import matplotlib.pyplot as plt\n",
    "\n",
    "# path hack to make relative imports work - don't mind me\n",
    "__package__ = \"src\"\n",
    "modulepath = Path.cwd().joinpath(\"../powerberry-app\").resolve().as_posix()\n",
    "\n",
    "if modulepath not in sys.path:\n",
    "    sys.path.append(modulepath)\n",
    "\n",
    "from .app import App\n",
    "from .services.config import Config"
   ]
  },
  {
   "cell_type": "code",
   "execution_count": null,
   "metadata": {},
   "outputs": [],
   "source": [
    "os.environ[\"CONFIG_PATH\"] = Path.cwd().joinpath(\"../config/config.json\").resolve().as_posix()\n",
    "\n",
    "config = Config()\n",
    "app = App(config)\n",
    "app.connect()"
   ]
  },
  {
   "cell_type": "code",
   "execution_count": null,
   "metadata": {},
   "outputs": [],
   "source": [
    "ts, volt = app._read_channel(\"0\", \"0\")\n",
    "ts = ts / 1_000_000\n",
    "\n",
    "prefix = \"xx\"\n",
    "np.save(f\"./samples/{prefix}_ts.npy\", ts)\n",
    "np.save(f\"./samples/{prefix}_volt.npy\", volt)"
   ]
  },
  {
   "cell_type": "code",
   "execution_count": 22,
   "metadata": {},
   "outputs": [],
   "source": [
    "prefix = \"01\"\n",
    "ts, volt = np.load(f\"./samples/{prefix}_ts.npy\"), np.load(f\"./samples/{prefix}_volt.npy\")\n",
    "ts = ts / 1_000_000"
   ]
  },
  {
   "cell_type": "code",
   "execution_count": null,
   "metadata": {},
   "outputs": [],
   "source": [
    "def fit_sinus(xs, ys, f0=50):\n",
    "    # (c) https://stackoverflow.com/a/42322656\n",
    "\n",
    "    xs = np.array(xs)\n",
    "    ys = np.array(ys)\n",
    "\n",
    "    def sin(t, A, w, p, c):\n",
    "        return A * np.sin(w*t + p) + c\n",
    "\n",
    "    # ff = np.fft.fftfreq(len(xs), (xs[1]-xs[0]))   # assume uniform spacing\n",
    "    # Fyy = abs(np.fft.fft(ys))\n",
    "    # guess_freq = abs(ff[np.argmax(Fyy[1:])+1])\n",
    "\n",
    "    # guess a few parameters\n",
    "    _A = np.std(volt) * 2.0**0.5\n",
    "    _w = 2.0 * np.pi * f0\n",
    "    _p = 0.0\n",
    "    _c = np.mean(volt)\n",
    "    guess = [_A, _w, _p, _c]\n",
    "\n",
    "    # fit sinus with non-linear least squares\n",
    "    popt, _ = scipy.optimize.curve_fit(sin, xs, ys, p0=guess)\n",
    "    A, w, p, c = popt\n",
    "    f = w / (2.0 * np.pi)\n",
    "\n",
    "    print(f\"{A=} {w=} ({f=}) {p=} {c=}\")\n",
    "    func = partial(sin, A=A, w=w, p=p, c=c)\n",
    "    return func"
   ]
  },
  {
   "cell_type": "code",
   "execution_count": null,
   "metadata": {},
   "outputs": [],
   "source": [
    "\n",
    "f = fit_sinus(ts, volt)\n",
    "\n",
    "n = 25\n",
    "\n",
    "plt.figure(figsize=(20, 10))\n",
    "plt.scatter(ts[:n], volt[:n], c=\"red\", s=10)\n",
    "\n",
    "tss = np.linspace(ts[0], ts[n], 10_000)\n",
    "plt.plot(tss, f(tss), c=\"grey\")\n",
    "\n",
    "plt.grid()\n",
    "plt.show()"
   ]
  },
  {
   "cell_type": "code",
   "execution_count": null,
   "metadata": {},
   "outputs": [],
   "source": [
    "# time difference\n",
    "a, b = np.min(ts) / 1_000_000, np.max(ts) / 1_000_000\n",
    "datetime.fromtimestamp(b) - datetime.fromtimestamp(a)"
   ]
  }
 ],
 "metadata": {
  "kernelspec": {
   "display_name": "Python 3.9.13 ('.venv': venv)",
   "language": "python",
   "name": "python3"
  },
  "language_info": {
   "codemirror_mode": {
    "name": "ipython",
    "version": 3
   },
   "file_extension": ".py",
   "mimetype": "text/x-python",
   "name": "python",
   "nbconvert_exporter": "python",
   "pygments_lexer": "ipython3",
   "version": "3.9.13"
  },
  "orig_nbformat": 4,
  "vscode": {
   "interpreter": {
    "hash": "53ff0851d2ea2085fba3e90cdf1eddc86eb6b45b16381995277c71dd1920a6e5"
   }
  }
 },
 "nbformat": 4,
 "nbformat_minor": 2
}
